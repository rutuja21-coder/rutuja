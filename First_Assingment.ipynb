{
 "cells": [
  {
   "cell_type": "markdown",
   "id": "24ae0b90-cc8c-495b-a8e7-90cfad2f3a05",
   "metadata": {},
   "source": [
    "# Problem 1: Write a program that will give you in hand monthly salary after deduction\n",
    "on CTC - HRA(10%), DA(5%), PF(3%) and taxes deduction as below:\n",
    "Salary(Lakhs) : Tax(%)\n",
    "\n",
    "Below 5 : 0%\n",
    "5-10 : 10%\n",
    "10-20 : 20%\n",
    "aboove 20 : 30%"
   ]
  },
  {
   "cell_type": "code",
   "execution_count": 5,
   "id": "6fae7df1-ec14-435d-97bb-4c6fdf0f093e",
   "metadata": {},
   "outputs": [
    {
     "name": "stdin",
     "output_type": "stream",
     "text": [
      "Enter your CTC in lakhs:  15\n"
     ]
    },
    {
     "name": "stdout",
     "output_type": "stream",
     "text": [
      "In-hand monthly salary: ₹82000.00\n"
     ]
    }
   ],
   "source": [
    "def calculate_in_hand_salary(ctc_lakhs):\n",
    "    HRA_PERCENTAGE = 10\n",
    "    DA_PERCENTAGE = 5\n",
    "    PF_PERCENTAGE = 3\n",
    "\n",
    "    ctc = ctc_lakhs * 100000\n",
    "    hra = (HRA_PERCENTAGE / 100) * ctc\n",
    "    da = (DA_PERCENTAGE / 100) * ctc\n",
    "    pf = (PF_PERCENTAGE / 100) * ctc\n",
    "\n",
    "    taxable_income = ctc - hra - da - pf\n",
    "\n",
    "    if ctc_lakhs < 5:\n",
    "        tax_rate = 0\n",
    "    elif 5 <= ctc_lakhs < 10:\n",
    "        tax_rate = 10\n",
    "    elif 10 <= ctc_lakhs < 20:\n",
    "        tax_rate = 20\n",
    "    else:\n",
    "        tax_rate = 3\n",
    "    tax = (tax_rate / 100) * taxable_income\n",
    "\n",
    "\n",
    "    in_hand_salary_annual = taxable_income-tax\n",
    "    in_hand_salary_monthly = in_hand_salary_annual / 12\n",
    "\n",
    "    return in_hand_salary_monthly\n",
    "\n",
    "\n",
    "ctc_lakhs = float(input(\"Enter your CTC in lakhs: \"))\n",
    "in_hand_salary = calculate_in_hand_salary(ctc_lakhs)\n",
    "print(f\"In-hand monthly salary: ₹{in_hand_salary:.2f}\")"
   ]
  },
  {
   "cell_type": "markdown",
   "id": "6e252983-ccd4-4f26-ab92-68ec7df71721",
   "metadata": {},
   "source": [
    "# Problem 2: Write a program that take a user input of three anglesand will find out whether it can form a triangle or not."
   ]
  },
  {
   "cell_type": "code",
   "execution_count": 8,
   "id": "fde2b7a3-fdb5-46bc-ad0c-f56d070b8a74",
   "metadata": {},
   "outputs": [
    {
     "name": "stdin",
     "output_type": "stream",
     "text": [
      "Enter the Triangle Side-1 : 80\n",
      "Enter the Triangle Side-2 : 50\n",
      "Enter the Triangle Side-3 : 50\n"
     ]
    },
    {
     "name": "stdout",
     "output_type": "stream",
     "text": [
      "Triangle Valid..\n"
     ]
    }
   ],
   "source": [
    "s1 = int(input(\"Enter the Triangle Side-1 :\"))\n",
    "s2 = int(input(\"Enter the Triangle Side-2 :\"))\n",
    "s3 = int(input(\"Enter the Triangle Side-3 :\"))\n",
    "sum = s1+s2+s3\n",
    "if(sum==180):\n",
    "\tprint(\"Triangle Valid..\")\n",
    "else:\n",
    "\tprint(\"Triangle Not Valid..\")"
   ]
  },
  {
   "cell_type": "markdown",
   "id": "9381ba24-cd12-4a58-a0b8-fc370204e321",
   "metadata": {},
   "source": [
    "## problem:3 Write a program that will take user input of cost price and selling price and determines whether its a loss or a profit."
   ]
  },
  {
   "cell_type": "code",
   "execution_count": 2,
   "id": "6475acf9-2615-4940-9833-4c9ec3270a11",
   "metadata": {},
   "outputs": [
    {
     "name": "stdin",
     "output_type": "stream",
     "text": [
      "Enter the cost Price of an Item : 40\n",
      "Enter the Selling Price of an Item : 50\n"
     ]
    },
    {
     "name": "stdout",
     "output_type": "stream",
     "text": [
      "Profit : 10.0\n"
     ]
    }
   ],
   "source": [
    "cost_price=float(input(\"Enter the cost Price of an Item :\"))\n",
    "selling_price=float(input(\"Enter the Selling Price of an Item :\"))\n",
    "if (selling_price > cost_price):\n",
    "\tprofit = selling_price - cost_price\n",
    "\tprint(\"Profit :\",profit)\n",
    "elif( cost_price > selling_price):\n",
    "\tloss = cost_price - selling_price\n",
    "\tprint(\"Loss :\",loss)\n",
    "else:\n",
    "\tprint(\"No Profit No Loss\")"
   ]
  },
  {
   "cell_type": "markdown",
   "id": "61bf1fe2-22d1-4d5c-9927-3eb1c09e3c1c",
   "metadata": {},
   "source": [
    "# Problem 4: Write a menu-driven program cm to ft, km to miles, USD to INR, exit"
   ]
  },
  {
   "cell_type": "code",
   "execution_count": 2,
   "id": "106f996e-f15b-423c-9d6b-906cd75dda9d",
   "metadata": {},
   "outputs": [
    {
     "name": "stdin",
     "output_type": "stream",
     "text": [
      "\n",
      " select one option\n",
      "\n",
      "1. cms to ft\n",
      "2. km to miles\n",
      "3. USD to INR\n",
      "4. Exit\n",
      " 2\n",
      "enter your km value 10\n"
     ]
    },
    {
     "name": "stdout",
     "output_type": "stream",
     "text": [
      "miles value is  6.2\n"
     ]
    }
   ],
   "source": [
    "menu = input(\"\"\"\n",
    " select one option\n",
    "\n",
    "1. cms to ft\n",
    "2. km to miles\n",
    "3. USD to INR\n",
    "4. Exit\n",
    "\"\"\")\n",
    "if menu ==\"1\":\n",
    "    cm = float(input(\"enter your cm value\"))\n",
    "    print(\"ft value is \",0.03280*cm)\n",
    "elif menu == \"2\":\n",
    "    km = eval(input(\"enter your km value\"))\n",
    "    print(\"miles value is \",0.62*km)\n",
    "elif menu == \"3\":\n",
    "    USD = eval(input(\"enter your USD value\"))\n",
    "    print(\"INR value is \",83.35*USD)  \n",
    "else:\n",
    "   print(\"Exit\")"
   ]
  },
  {
   "cell_type": "markdown",
   "id": "ab35d7c3-1003-46c3-9089-62137ca4a927",
   "metadata": {},
   "source": [
    "# Problem 5 - Exercise 12: Display Fibonacci series up to 10 terms.\n",
    "Note: The Fibonacci Sequence is a series of numbers. The next number is found by adding up the two numbers before it. The first two numbers are 0 and 1 \n"
   ]
  },
  {
   "cell_type": "code",
   "execution_count": 11,
   "id": "55fba09d-a64b-4183-9ebc-a35a5d896f94",
   "metadata": {},
   "outputs": [
    {
     "name": "stdin",
     "output_type": "stream",
     "text": [
      "enter any number 7\n"
     ]
    },
    {
     "name": "stdout",
     "output_type": "stream",
     "text": [
      "0 1 1 2 3 5 8 "
     ]
    }
   ],
   "source": [
    "num = int(input(\"enter any number\"))\n",
    "n1=0\n",
    "n2=1\n",
    "sum=0\n",
    "if num<=0:\n",
    "    print('please enter number greater than 0')\n",
    "else:\n",
    "    for i in range(0, num):\n",
    "        print(sum, end=\" \")\n",
    "        n1 = n2\n",
    "        n2 = sum\n",
    "        sum = n1 + n2"
   ]
  },
  {
   "cell_type": "markdown",
   "id": "57796d57-3824-4c52-bc07-0637ec1e9a45",
   "metadata": {},
   "source": [
    "# Problem 6 - Find the factorial of a given number.\n",
    "Write a program to use the loop to find the factorial of a given number.\n",
    "\n",
    "The factorial (symbol: !) means to multiply all whole numbers from the chosen number down to 1.\n"
   ]
  },
  {
   "cell_type": "code",
   "execution_count": 12,
   "id": "c8304df8-b46c-4086-a617-ed52ff159805",
   "metadata": {},
   "outputs": [
    {
     "name": "stdin",
     "output_type": "stream",
     "text": [
      "Enter a number:  5\n"
     ]
    },
    {
     "name": "stdout",
     "output_type": "stream",
     "text": [
      "The factorial of  5 is 120\n"
     ]
    }
   ],
   "source": [
    "num =int(input(\"Enter a number: \"))\n",
    "fact=1\n",
    "a=1\n",
    "while a<=num:\n",
    "    fact=fact*a\n",
    "    a=a+1\n",
    "\n",
    "print(\"The factorial of \", num, \"is\", fact)\n"
   ]
  },
  {
   "cell_type": "markdown",
   "id": "af9931eb-4c61-4c4e-91e4-fe3a1f629b38",
   "metadata": {},
   "source": [
    "# Problem 7 - Reverse a given integer number.\n"
   ]
  },
  {
   "cell_type": "code",
   "execution_count": 1,
   "id": "57f454c0-5f8f-4296-baf5-698e34a08350",
   "metadata": {},
   "outputs": [
    {
     "name": "stdin",
     "output_type": "stream",
     "text": [
      "enter number 76542\n"
     ]
    },
    {
     "name": "stdout",
     "output_type": "stream",
     "text": [
      "Reverse number= 24567\n"
     ]
    }
   ],
   "source": [
    "i=int(input(\"enter number\"))\n",
    "rev=0\n",
    "while (i>0):\n",
    "    rev=(rev*10)+i%10\n",
    "    i=i//10\n",
    "print(\"Reverse number=\",rev)"
   ]
  },
  {
   "cell_type": "markdown",
   "id": "0ba9b9f0-d33d-47c9-bf99-241748cf49f3",
   "metadata": {},
   "source": [
    "# Problem 8: Take a user input as integer N. Find out the sum from 1 to N. If any number if divisible by 5, then skip that number. And if the sum is greater than 300, don't need to calculate the sum further more. Print the final result. And don't use for loop to solve this problem."
   ]
  },
  {
   "cell_type": "code",
   "execution_count": 7,
   "id": "b0195f1f-b36d-445c-89df-d83d42fb4dbc",
   "metadata": {},
   "outputs": [
    {
     "name": "stdin",
     "output_type": "stream",
     "text": [
      "enter an integer num:  30\n"
     ]
    },
    {
     "name": "stdout",
     "output_type": "stream",
     "text": [
      "final result: 276\n"
     ]
    }
   ],
   "source": [
    "N= int(input(\"enter an integer num: \"))\n",
    "sum=0\n",
    "i=1\n",
    "while i < N:\n",
    "    if i % 5 == 0:\n",
    "        i += 1\n",
    "        continue\n",
    "\n",
    "    if sum+i > 300:\n",
    "        break\n",
    "    sum += i\n",
    "    i += 1\n",
    "print(\"final result:\",sum)"
   ]
  },
  {
   "cell_type": "markdown",
   "id": "487ce101-df04-4e66-a301-fb70d3b77df8",
   "metadata": {},
   "source": [
    "# Problem 9: Write a program that keeps on accepting a number from the user until the user enters Zero. Display the sum and average of all the numbers."
   ]
  },
  {
   "cell_type": "code",
   "execution_count": 2,
   "id": "9345145f-a247-4e55-b74c-49f0413412b6",
   "metadata": {},
   "outputs": [
    {
     "name": "stdin",
     "output_type": "stream",
     "text": [
      "Enter a number (enter 0 to stop):  13\n",
      "Enter a number (enter 0 to stop):  76\n",
      "Enter a number (enter 0 to stop):  34\n",
      "Enter a number (enter 0 to stop):  0\n"
     ]
    },
    {
     "name": "stdout",
     "output_type": "stream",
     "text": [
      "The sum of all numbers is: 123\n",
      "The average of all numbers is: 41.0\n"
     ]
    }
   ],
   "source": [
    "\n",
    "total_sum = 0\n",
    "count = 0\n",
    "\n",
    "while True:\n",
    "    \n",
    "    num = int(input(\"Enter a number (enter 0 to stop): \"))\n",
    "    \n",
    "    \n",
    "    if num == 0:\n",
    "        break\n",
    "    \n",
    "    total_sum += num\n",
    "    count += 1\n",
    "\n",
    "\n",
    "if count == 0:\n",
    "    average = 0\n",
    "else:\n",
    "    average = total_sum / count\n",
    "\n",
    "\n",
    "print(\"The sum of all numbers is:\", total_sum)\n",
    "print(\"The average of all numbers is:\", average)\n",
    "\n"
   ]
  },
  {
   "cell_type": "markdown",
   "id": "2a8c7ac8-1a86-4cee-9ced-f6a2a375a7de",
   "metadata": {},
   "source": [
    "# Problem 10: Write a program which will find all such numbers which are divisible by 7 but are not a multiple of 5, between 2000 and 3200 (both included). The numbers obtained should be printed in a comma-separated sequence on a single line.\n"
   ]
  },
  {
   "cell_type": "code",
   "execution_count": 4,
   "id": "867717e5-08f9-4efa-a35e-b788f43746b3",
   "metadata": {},
   "outputs": [
    {
     "name": "stdout",
     "output_type": "stream",
     "text": [
      "[2002, 2009, 2016, 2023, 2037, 2044, 2051, 2058, 2072, 2079, 2086, 2093, 2107, 2114, 2121, 2128, 2142, 2149, 2156, 2163, 2177, 2184, 2191, 2198, 2212, 2219, 2226, 2233, 2247, 2254, 2261, 2268, 2282, 2289, 2296, 2303, 2317, 2324, 2331, 2338, 2352, 2359, 2366, 2373, 2387, 2394, 2401, 2408, 2422, 2429, 2436, 2443, 2457, 2464, 2471, 2478, 2492, 2499, 2506, 2513, 2527, 2534, 2541, 2548, 2562, 2569, 2576, 2583, 2597, 2604, 2611, 2618, 2632, 2639, 2646, 2653, 2667, 2674, 2681, 2688, 2702, 2709, 2716, 2723, 2737, 2744, 2751, 2758, 2772, 2779, 2786, 2793, 2807, 2814, 2821, 2828, 2842, 2849, 2856, 2863, 2877, 2884, 2891, 2898, 2912, 2919, 2926, 2933, 2947, 2954, 2961, 2968, 2982, 2989, 2996, 3003, 3017, 3024, 3031, 3038, 3052, 3059, 3066, 3073, 3087, 3094, 3101, 3108, 3122, 3129, 3136, 3143, 3157, 3164, 3171, 3178, 3192, 3199]\n"
     ]
    }
   ],
   "source": [
    "result = []\n",
    "for num in range(2000,3200):\n",
    "    if num % 7  == 0 and num % 5 !=0:\n",
    "        result.append(num)\n",
    "print(result)\n"
   ]
  },
  {
   "cell_type": "markdown",
   "id": "3d5ee6d3-d17d-4b6e-8c48-3b384de211d1",
   "metadata": {},
   "source": [
    "# Problem 11: Write a program, which will find all such numbers between 1000 and 3000 (both included) such that each digit of the number is an even number. The numbers obtained should be printed in a space-separated sequence on a single line."
   ]
  },
  {
   "cell_type": "code",
   "execution_count": 11,
   "id": "ea62492c-0916-4098-9c3f-9fbc9b07e693",
   "metadata": {},
   "outputs": [
    {
     "name": "stdout",
     "output_type": "stream",
     "text": [
      "2000,2001,2002,2003,2004,2005,2006,2007,2008,2009,2020,2021,2022,2023,2024,2025,2026,2027,2028,2029,2040,2041,2042,2043,2044,2045,2046,2047,2048,2049,2060,2061,2062,2063,2064,2065,2066,2067,2068,2069,2080,2081,2082,2083,2084,2085,2086,2087,2088,2089,2200,2201,2202,2203,2204,2205,2206,2207,2208,2209,2220,2221,2222,2223,2224,2225,2226,2227,2228,2229,2240,2241,2242,2243,2244,2245,2246,2247,2248,2249,2260,2261,2262,2263,2264,2265,2266,2267,2268,2269,2280,2281,2282,2283,2284,2285,2286,2287,2288,2289,2400,2401,2402,2403,2404,2405,2406,2407,2408,2409,2420,2421,2422,2423,2424,2425,2426,2427,2428,2429,2440,2441,2442,2443,2444,2445,2446,2447,2448,2449,2460,2461,2462,2463,2464,2465,2466,2467,2468,2469,2480,2481,2482,2483,2484,2485,2486,2487,2488,2489,2600,2601,2602,2603,2604,2605,2606,2607,2608,2609,2620,2621,2622,2623,2624,2625,2626,2627,2628,2629,2640,2641,2642,2643,2644,2645,2646,2647,2648,2649,2660,2661,2662,2663,2664,2665,2666,2667,2668,2669,2680,2681,2682,2683,2684,2685,2686,2687,2688,2689,2800,2801,2802,2803,2804,2805,2806,2807,2808,2809,2820,2821,2822,2823,2824,2825,2826,2827,2828,2829,2840,2841,2842,2843,2844,2845,2846,2847,2848,2849,2860,2861,2862,2863,2864,2865,2866,2867,2868,2869,2880,2881,2882,2883,2884,2885,2886,2887,2888,2889\n"
     ]
    }
   ],
   "source": [
    "result = []\n",
    "for i in range(1000,3000):\n",
    "    s = str(i)\n",
    "    if (int(s[0]) % 2 == 0) and (int(s[1]) % 2 == 0) and (int(s[2]) % 2 == 0):\n",
    "                                                        result.append(s)\n",
    "print(\",\".join(result))"
   ]
  },
  {
   "cell_type": "markdown",
   "id": "19fcd13a-5fd1-4bd8-a377-3f2e666008ae",
   "metadata": {},
   "source": [
    "# Problem 12: A robot moves in a plane starting from the original point (0,0). The robot can move toward UP, DOWN, LEFT and RIGHT with a given steps."
   ]
  },
  {
   "cell_type": "raw",
   "id": "6960a607-affe-491b-8fa0-e3cd4351c16d",
   "metadata": {},
   "source": [
    "The trace of robot movement is shown as the following:\n",
    "UP 5\n",
    "DOWN 3\n",
    "LEFT 3\n",
    "RIGHT 2\n",
    "!\n",
    "The numbers after the direction are steps.\n",
    "! means robot stop there\n",
    "Please write a program to compute the distance from current position after a sequence of movement and original point.\n",
    "If the distance is a float, then just print the nearest integer.\n"
   ]
  },
  {
   "cell_type": "code",
   "execution_count": null,
   "id": "bd59f850-1100-4e2b-82f6-8295cd414642",
   "metadata": {},
   "outputs": [
    {
     "name": "stdin",
     "output_type": "stream",
     "text": [
      "Type in UP/DOWN/LEFT/RIGHT #step number:  5\n",
      "Type in UP/DOWN/LEFT/RIGHT #step number:  3\n",
      "Type in UP/DOWN/LEFT/RIGHT #step number:  3\n",
      "Type in UP/DOWN/LEFT/RIGHT #step number:  2\n",
      "Type in UP/DOWN/LEFT/RIGHT #step number:  !\n"
     ]
    }
   ],
   "source": [
    "import math\n",
    "\n",
    "x, y = 0, 0\n",
    "\n",
    "while True:\n",
    "    step = input(\"Type in UP/DOWN/LEFT/RIGHT #step number: \")\n",
    "\n",
    "    if step == \"\":\n",
    "        break\n",
    "\n",
    "    else:\n",
    "        step = step.split(\" !\")\n",
    "\n",
    "        if step[0] == \"UP\":\n",
    "            y = y + int(step[1])\n",
    "        elif step[0] == \"DOWN\":\n",
    "            y = y - int(step[1])\n",
    "        elif step[0] == \"LEFT\":\n",
    "            x = x - int(step[1])\n",
    "        elif step[0] == \"RIGHT\":\n",
    "            x = x + int(step[1])\n",
    "S\n",
    "c = math.sqrt(x*2 + y*2)\n",
    "\n",
    "print(\"Distance:\", c)"
   ]
  },
  {
   "cell_type": "markdown",
   "id": "9a20e049-1e9a-4727-b3e6-d512bd54692e",
   "metadata": {},
   "source": [
    "# Problem 13:Write a program to print whether a given number is a prime number or not"
   ]
  },
  {
   "cell_type": "code",
   "execution_count": 9,
   "id": "b5becae8-7536-4497-98ef-d6800e4395bb",
   "metadata": {},
   "outputs": [
    {
     "name": "stdin",
     "output_type": "stream",
     "text": [
      "enter an integer num:  7\n"
     ]
    },
    {
     "name": "stdout",
     "output_type": "stream",
     "text": [
      "7 is a prime number\n"
     ]
    }
   ],
   "source": [
    "num = int(input(\"enter an integer num: \"))\n",
    "if num > 1:\n",
    "  \n",
    "    for i in range(2, (num//2)+1):\n",
    "        \n",
    "        if (num % i) == 0:\n",
    "            print(num, \"is not a prime number\")\n",
    "            break\n",
    "    else:\n",
    "        print(num, \"is a prime number\")\n",
    "else:\n",
    "    print(num, \"is not a prime number\")"
   ]
  },
  {
   "cell_type": "markdown",
   "id": "88c283b9-4de8-4c3b-a304-8b3ee69e7805",
   "metadata": {},
   "source": [
    "# Problem 14:Print all the Armstrong numbers in a given range.\n",
    "Range will be provided by the user\n",
    "Armstrong number is a number that is equal to the sum of cubes of its digits."
   ]
  },
  {
   "cell_type": "code",
   "execution_count": 12,
   "id": "926b8daf-00f4-433c-b93b-961f113bfb4c",
   "metadata": {},
   "outputs": [
    {
     "name": "stdin",
     "output_type": "stream",
     "text": [
      "Enter a number:  153\n"
     ]
    },
    {
     "name": "stdout",
     "output_type": "stream",
     "text": [
      "153 is an Armstrong number\n"
     ]
    }
   ],
   "source": [
    "num = int(input(\"Enter a number: \"))\n",
    "sum = 0\n",
    "temp = num\n",
    "while temp > 0:\n",
    "   digit = temp % 10\n",
    "   sum += digit ** 3\n",
    "   temp //= 10\n",
    "if num == sum:\n",
    "   print(num,\"is an Armstrong number\")\n",
    "else:\n",
    "   print(num,\"is not an Armstrong number\")"
   ]
  },
  {
   "cell_type": "markdown",
   "id": "0f7cdb0e-0f42-47ac-805e-87b31f94a2db",
   "metadata": {},
   "source": [
    "# Problem 15:Calculate the angle between the hour hand and minute hand.\n"
   ]
  },
  {
   "cell_type": "code",
   "execution_count": 13,
   "id": "c93d1bcf-0183-4d0e-b07f-ea0e0e1e3cbe",
   "metadata": {},
   "outputs": [
    {
     "name": "stdout",
     "output_type": "stream",
     "text": [
      "90\n"
     ]
    }
   ],
   "source": [
    "H = 9\n",
    "M = 0\n",
    "hour_angle = (H % 12) * 30 + (M * 0.5)\n",
    "minute_angle = M * 6\n",
    "angle_difference = abs(hour_angle - minute_angle)\n",
    "smaller_angle = min(angle_difference, 360 - angle_difference)\n",
    "result = int(smaller_angle)\n",
    "print(result)  "
   ]
  },
  {
   "cell_type": "markdown",
   "id": "55bf601a-2eb3-49bc-a72f-5d07ab97025a",
   "metadata": {},
   "source": [
    "# Problem 16:Given two rectangles, find if the given two rectangles overlap or not. A rectangle is denoted by providing the x and y coordinates of two points: the left top corner and the right bottom corner of the rectangle. Two rectangles sharing a side are considered overlapping. (L1 and R1 are the extreme points of the first rectangle and L2 and R2 are the extreme points of the second rectangle)."
   ]
  },
  {
   "cell_type": "code",
   "execution_count": 14,
   "id": "56f78df0-6add-4e36-9d73-9adfb65060e4",
   "metadata": {},
   "outputs": [
    {
     "name": "stdout",
     "output_type": "stream",
     "text": [
      "True\n"
     ]
    }
   ],
   "source": [
    "x1, y1 = 0, 10  \n",
    "x2, y2 = 10, 0  \n",
    "\n",
    "x3, y3 = 5, 5  \n",
    "x4, y4 = 15, -5  \n",
    "\n",
    "if (x2 < x3 or x4 < x1 or y2 > y3 or y4 > y1):\n",
    "    overlap = False\n",
    "else:\n",
    "    overlap = True\n",
    "\n",
    "print(overlap) \n"
   ]
  },
  {
   "cell_type": "code",
   "execution_count": null,
   "id": "2381a7ea-fd24-472d-9ef2-68a5ea6f5b0d",
   "metadata": {},
   "outputs": [],
   "source": []
  }
 ],
 "metadata": {
  "kernelspec": {
   "display_name": "Python 3 (ipykernel)",
   "language": "python",
   "name": "python3"
  },
  "language_info": {
   "codemirror_mode": {
    "name": "ipython",
    "version": 3
   },
   "file_extension": ".py",
   "mimetype": "text/x-python",
   "name": "python",
   "nbconvert_exporter": "python",
   "pygments_lexer": "ipython3",
   "version": "3.11.7"
  }
 },
 "nbformat": 4,
 "nbformat_minor": 5
}
