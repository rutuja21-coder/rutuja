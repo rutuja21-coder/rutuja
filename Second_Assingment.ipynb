{
 "cells": [
  {
   "cell_type": "markdown",
   "id": "a0433991-3bb0-4ff5-b5ad-08d4ff07a828",
   "metadata": {},
   "source": [
    "# Tuple"
   ]
  },
  {
   "cell_type": "markdown",
   "id": "37137b86-217f-4023-b49b-22a9d68a9ace",
   "metadata": {},
   "source": [
    "# Q1: Join Tuples if similar initial element While working with Python tuples, we can have a problem in which we need to perform concatenation of records from the similarity of initial element. This problem can have applications in data domains such as Data Science."
   ]
  },
  {
   "cell_type": "code",
   "execution_count": 1,
   "id": "7ee15632-7604-4e78-9745-50ae55c85924",
   "metadata": {},
   "outputs": [
    {
     "name": "stdout",
     "output_type": "stream",
     "text": [
      "The original list is: \n",
      "[(5, 6), (5, 7), (5, 8), (6, 10), (7, 13)]\n",
      "The joined list is: \n",
      "[(5, 6, 7, 8), (6, 10), (7, 13)]\n"
     ]
    }
   ],
   "source": [
    " test_list = [(5, 6), (5, 7), (5, 8), (6, 10), (7, 13)] \n",
    "print(\"The original list is: \")\n",
    "print(test_list)\n",
    "\n",
    "result = []\n",
    "for sub in test_list:\n",
    "   if result and result[-1][0] == sub[0]:\n",
    "      result[-1].extend(sub[1:])\n",
    "   else:\n",
    "      result.append([ele for ele in sub])\n",
    "result = list(map(tuple, result))\n",
    "\n",
    "print(\"The joined list is: \" )\n",
    "print(result)"
   ]
  },
  {
   "cell_type": "markdown",
   "id": "c34ba5e6-35ad-48dd-9be2-fe09c3c088c4",
   "metadata": {},
   "source": [
    "# Q2: Multiply Adjacent elements (both side) and take sum of right and lest side multiplication result."
   ]
  },
  {
   "cell_type": "code",
   "execution_count": 2,
   "id": "05979f97-9e51-4df4-b1f9-9c8ce1b4ddb4",
   "metadata": {},
   "outputs": [
    {
     "name": "stdout",
     "output_type": "stream",
     "text": [
      "(5, 40, 91, 136, 80)\n"
     ]
    }
   ],
   "source": [
    "tup = (1, 5, 7, 8, 10)\n",
    "res = tuple(\n",
    "    tup[i] * tup[i + 1] if i == 0 else\n",
    "    tup[i] * tup[i - 1] + tup[i] * tup[i + 1] if i < len(tup) - 1 else\n",
    "    tup[i] * tup[i - 1]\n",
    "    for i in range(len(tup))\n",
    ")\n",
    "print(res)"
   ]
  },
  {
   "cell_type": "markdown",
   "id": "ea842835-80ed-444d-859a-7642afef298e",
   "metadata": {},
   "source": [
    "# Q3: Check is tuples are same or not? "
   ]
  },
  {
   "cell_type": "code",
   "execution_count": 3,
   "id": "fcf5c67a-cdf6-4ce8-a2d6-dc04177fdfda",
   "metadata": {},
   "outputs": [
    {
     "name": "stdout",
     "output_type": "stream",
     "text": [
      "t1 and t2 are the same:  False\n"
     ]
    }
   ],
   "source": [
    "t1 = (1,2,3,0)\n",
    "t2 = (0,1,2,3)\n",
    "res = t1 == t2\n",
    "print(\"t1 and t2 are the same: \",res)"
   ]
  },
  {
   "cell_type": "markdown",
   "id": "88c84c68-a4f1-4572-8e49-f06a8b89b5ae",
   "metadata": {},
   "source": [
    "# Q4: Count no of tuples, list and set from a list"
   ]
  },
  {
   "cell_type": "code",
   "execution_count": 4,
   "id": "9800fa8d-eac4-439c-b0eb-01ff035840b4",
   "metadata": {},
   "outputs": [
    {
     "name": "stdout",
     "output_type": "stream",
     "text": [
      "Number of tuples: 1\n",
      "Number of lists: 2\n",
      "Number of sets: 2\n"
     ]
    }
   ],
   "source": [
    "L1 = [{'hi', 'bye'}, {'Geeks', 'forGeeks'}, ('a', 'b'), ['hi', 'bye'], ['a', 'b']]\n",
    "\n",
    "# Initialize counters\n",
    "tuple_count = 0\n",
    "list_count = 0\n",
    "set_count = 0\n",
    "\n",
    "# Iterate through the elements and count the types\n",
    "for item in L1:\n",
    "    if isinstance(item, tuple):\n",
    "        tuple_count += 1\n",
    "    elif isinstance(item, list):\n",
    "        list_count += 1\n",
    "    elif isinstance(item, set):\n",
    "        set_count += 1\n",
    "\n",
    "print(f\"Number of tuples: {tuple_count}\")\n",
    "print(f\"Number of lists: {list_count}\")\n",
    "print(f\"Number of sets: {set_count}\")"
   ]
  },
  {
   "cell_type": "markdown",
   "id": "e634e71a-9a79-44f1-aba1-ea97e8051af1",
   "metadata": {},
   "source": [
    "# Q5: Shortlist Students for a Job role\n",
    "Ask user to input students record and store in tuples for each record. Then Ask user to input three things he wants in the candidate- Primary Skill, Higher Education, Year of Graduation.\n",
    "\n",
    "Show every students record in form of tuples if matches all required criteria.\n",
    "\n",
    "It is assumed that there will be only one primry skill.\n",
    "\n",
    "If no such candidate found, print No such candidate\n"
   ]
  },
  {
   "cell_type": "code",
   "execution_count": 5,
   "id": "71afb9ec-388f-4375-8a98-e20d62f9b909",
   "metadata": {},
   "outputs": [
    {
     "name": "stdin",
     "output_type": "stream",
     "text": [
      "Enter No of records;  2\n"
     ]
    },
    {
     "name": "stdout",
     "output_type": "stream",
     "text": [
      "Enter Details of student-1\n",
      "Enter Details of student-2\n"
     ]
    },
    {
     "name": "stdin",
     "output_type": "stream",
     "text": [
      "Enter Student name:  Manohar\n",
      "Enter Higher Education:  B.Tech\n",
      "Enter Primary Skill:  Pyhon\n",
      "Enter Year of Graduation:  2022\n"
     ]
    },
    {
     "name": "stdout",
     "output_type": "stream",
     "text": [
      "\n",
      "Enter Job Role Requirement\n"
     ]
    },
    {
     "name": "stdin",
     "output_type": "stream",
     "text": [
      "Enter Skill:  Python\n",
      "Enter Higher Education:  B.Tech\n",
      "Enter Year of Graduation:  2022\n"
     ]
    },
    {
     "name": "stdout",
     "output_type": "stream",
     "text": [
      "No such candidate\n"
     ]
    }
   ],
   "source": [
    "num_records =int(input(\"Enter No of records; \"))\n",
    "students=[]\n",
    "\n",
    "for i in range(num_records):\n",
    "    print(f\"Enter Details of student-{i + 1}\")\n",
    "\n",
    "name = input(\"Enter Student name: \")\n",
    "\n",
    "education = input(\"Enter Higher Education: \")\n",
    "\n",
    "skill = input(\"Enter Primary Skill: \")\n",
    "\n",
    "graduation_year = input(\"Enter Year of Graduation: \")\n",
    "\n",
    "\n",
    "print(\"\\nEnter Job Role Requirement\")\n",
    "\n",
    "required_skill = input(\"Enter Skill: \")\n",
    "\n",
    "required_education = input(\"Enter Higher Education: \") \n",
    "required_year = input(\"Enter Year of Graduation: \")\n",
    "\n",
    "\n",
    "for student in students: \n",
    "    name, education, skill, graduation_year = student\n",
    "    if skill == required_skill and education == required_education and graduation_year == required_year:\n",
    "        shortlisted_candidates.append(student)\n",
    "\n",
    "    if shortlisted_candidates:\n",
    "       for candidate in shortlisted_candidates:\n",
    "           print(candidate)\n",
    "\n",
    "else: \n",
    "    print(\"No such candidate\")"
   ]
  },
  {
   "cell_type": "markdown",
   "id": "5fabbfe5-028b-4cbe-8e88-6e0dac566606",
   "metadata": {},
   "source": [
    "# Set"
   ]
  },
  {
   "cell_type": "markdown",
   "id": "a1abcf0b-9e13-4cf3-804c-55c49d91e672",
   "metadata": {},
   "source": [
    "# Q1:Write a program to find set of common elements in three lists using sets."
   ]
  },
  {
   "cell_type": "code",
   "execution_count": 6,
   "id": "396dfe6a-5582-4750-ab24-09d07a073b8b",
   "metadata": {},
   "outputs": [
    {
     "name": "stdout",
     "output_type": "stream",
     "text": [
      "Common elements: {80, 20}\n"
     ]
    }
   ],
   "source": [
    "ar1 = [1, 5, 10, 20, 40, 80] \n",
    "ar2 = [6, 7, 20, 80, 100] \n",
    "ar3 = [3, 4, 15, 20, 30, 70, 80, 120]\n",
    "set1 = set(ar1)\n",
    "set2 = set(ar2)\n",
    "set3 = set(ar3)\n",
    "common_elements = set1.intersection(ar2, ar3)\n",
    "print(\"Common elements:\", common_elements)"
   ]
  },
  {
   "cell_type": "markdown",
   "id": "5423e426-1d5c-49e9-867e-b61ff61cd05d",
   "metadata": {},
   "source": [
    "# Q2: Write a program to count unique number of vowels using sets in a given string. Lowercase and upercase vowels will be taken as different."
   ]
  },
  {
   "cell_type": "code",
   "execution_count": 7,
   "id": "9938d50e-1b4e-4c60-925e-9addbb4d9924",
   "metadata": {},
   "outputs": [
    {
     "name": "stdout",
     "output_type": "stream",
     "text": [
      "No of unique vowels:  6\n"
     ]
    }
   ],
   "source": [
    "str1 = \"hands-on data science mentorship progrAm with live classes at affordable fee only on CampusX\"\n",
    "vowels = {'a', 'e', 'i', 'o', 'u', 'A', 'Ε', 'I', '0', 'U'}\n",
    "\n",
    "\n",
    "unique_vowels = set()\n",
    "for i in str1:\n",
    "    if i in vowels:\n",
    "        unique_vowels.add(i)\n",
    "\n",
    "num_unique_vowels = len(unique_vowels)\n",
    "print(\"No of unique vowels: \",num_unique_vowels)\n"
   ]
  },
  {
   "cell_type": "markdown",
   "id": "fd760fef-7c55-4ea7-b28b-b9f9a6f0f77b",
   "metadata": {},
   "source": [
    "# Q3: Write a program to Check if a given string is binary string of or not."
   ]
  },
  {
   "cell_type": "code",
   "execution_count": 8,
   "id": "0189964e-e74d-47ef-909b-12600a684289",
   "metadata": {},
   "outputs": [
    {
     "name": "stdin",
     "output_type": "stream",
     "text": [
      "Enter a string:  01010101010\n"
     ]
    },
    {
     "name": "stdout",
     "output_type": "stream",
     "text": [
      "Yes\n"
     ]
    }
   ],
   "source": [
    "user_input = input(\"Enter a string: \")\n",
    "\n",
    "unique_chars = set(user_input)\n",
    "\n",
    "if len(unique_chars) == 2:\n",
    "    print(\"Yes\")\n",
    "else:\n",
    "    print(\"No\")"
   ]
  },
  {
   "cell_type": "markdown",
   "id": "901b5d5f-3307-45c5-bf7c-68979ca23c44",
   "metadata": {},
   "source": [
    "# Q4: find union of n arrays."
   ]
  },
  {
   "cell_type": "code",
   "execution_count": 9,
   "id": "ce0454b0-2c82-4a84-ac19-461bd3c9d8d8",
   "metadata": {},
   "outputs": [
    {
     "name": "stdout",
     "output_type": "stream",
     "text": [
      "[1, 2, 3, 4, 5, 6, 7, 9]\n"
     ]
    }
   ],
   "source": [
    "arrays = [\n",
    "    [1, 2, 2, 4, 3, 6],\n",
    "    [5, 1, 3, 4],\n",
    "    [9, 5, 7, 1],\n",
    "    [2, 4, 1, 3]\n",
    "]\n",
    "\n",
    "union_set = set()\n",
    "\n",
    "for array in arrays:\n",
    "    union_set.update(array)\n",
    "\n",
    "union_list = sorted(union_set)\n",
    "\n",
    "\n",
    "print(union_list)"
   ]
  },
  {
   "cell_type": "markdown",
   "id": "b8efe835-f331-4835-8237-3281a1e056c3",
   "metadata": {},
   "source": [
    "# Q5: Intersection of two lists. Intersection of two list means we need to take all those elements which are common to both of the initial lists and store them into another list. Only use using list-comprehension.\n"
   ]
  },
  {
   "cell_type": "code",
   "execution_count": 10,
   "id": "60092dcb-ff2c-4fc9-9640-47bec44bddac",
   "metadata": {},
   "outputs": [
    {
     "name": "stdout",
     "output_type": "stream",
     "text": [
      "[9, 10, 4, 5]\n"
     ]
    }
   ],
   "source": [
    "lst1 = {15, 9, 10, 56, 23, 78, 5, 4, 9}\n",
    "lst2 = {9, 4, 5, 36, 47, 26, 10, 45, 87}\n",
    "\n",
    "intersection = lst1 & lst2\n",
    "\n",
    "intersection_list = list(intersection)\n",
    "\n",
    "print(intersection_list)"
   ]
  },
  {
   "cell_type": "markdown",
   "id": "ae7f913d-7113-4f1e-a755-e5c2a8c8cf24",
   "metadata": {},
   "source": [
    "# Dictionary\n"
   ]
  },
  {
   "cell_type": "markdown",
   "id": "1a830cb1-837c-4778-bc87-658651980346",
   "metadata": {},
   "source": [
    "# Q1: Key with maximum unique values. Given a dictionary with values list, extract key whose value has most unique values."
   ]
  },
  {
   "cell_type": "code",
   "execution_count": 11,
   "id": "7c12c1a1-d27f-4a03-9454-58a4fbaee829",
   "metadata": {},
   "outputs": [
    {
     "name": "stdout",
     "output_type": "stream",
     "text": [
      "CampusX\n",
      "Best\n"
     ]
    }
   ],
   "source": [
    "test_dict1 = {\"CampusX\": [5, 7, 9, 4, 0], \"is\": [6, 7, 4, 3, 3], \"Best\": [9, 9, 6, 5, 5]}\n",
    "test_dict2 = {\"CampusX\": [5, 7, 7, 7, 7], \"is\": [6, 7, 7, 7], \"Best\": [9, 9, 6, 5, 5]}\n",
    "\n",
    "max_unique_key = None\n",
    "max_unique_count = 0\n",
    "\n",
    "for key, values in test_dict1.items():\n",
    "    unique_count = len(set(values))\n",
    "    if unique_count > max_unique_count:\n",
    "        max_unique_count = unique_count\n",
    "        max_unique_key = key\n",
    "print(max_unique_key) \n",
    "\n",
    "\n",
    "max_unique_key = None\n",
    "max_unique_count = 0\n",
    "\n",
    "for key, values in test_dict2.items():\n",
    "    unique_count = len(set(values))\n",
    "    if unique_count > max_unique_count:\n",
    "        max_unique_count = unique_count\n",
    "        max_unique_key = key\n",
    "\n",
    "print(max_unique_key) "
   ]
  },
  {
   "cell_type": "markdown",
   "id": "ebe13a9a-1f85-400b-8571-d28bf7d690f4",
   "metadata": {},
   "source": [
    "# Q2: Replace words from Dictionary. Given String, replace it’s words from lookup dictionary."
   ]
  },
  {
   "cell_type": "code",
   "execution_count": 12,
   "id": "b011c0b7-5049-4174-9e30-185cdd63dd9f",
   "metadata": {},
   "outputs": [
    {
     "name": "stdout",
     "output_type": "stream",
     "text": [
      "CampusX is the best channel for Data-Science students.\n"
     ]
    }
   ],
   "source": [
    "test_str = 'CampusX best for DS students.'\n",
    "repl_dict = {\"best\" : \"is the best channel\", \"DS\" : \"Data-Science\"}\n",
    "\n",
    "words = test_str.split()\n",
    "\n",
    "for i, word in enumerate(words):\n",
    "    if word in repl_dict:\n",
    "        words[i] = repl_dict[word]\n",
    "\n",
    "result = ' '.join(words)\n",
    "print(result)"
   ]
  },
  {
   "cell_type": "markdown",
   "id": "eee7c210-cd8e-4f9d-9b06-192a06cfeb8c",
   "metadata": {},
   "source": [
    "# Q3: Convert List to List of dictionaries. Given list values and keys list, convert these values to key value pairs in form of list of dictionaries.\n"
   ]
  },
  {
   "cell_type": "code",
   "execution_count": 16,
   "id": "31ff8956-d396-4121-a1dc-01c00a39a516",
   "metadata": {},
   "outputs": [
    {
     "name": "stdout",
     "output_type": "stream",
     "text": [
      "[{'name': 'DataScience', 'id': 3}, {'name': 'is', 'id': 8}]\n"
     ]
    }
   ],
   "source": [
    "test_list = [\"DataScience\", 3, \"is\", 8]\n",
    "key_list = [\"name\", \"id\"]\n",
    "\n",
    "result = []\n",
    "\n",
    "for i in range(0, len(test_list), 2):\n",
    "    d = {key_list[0]: test_list[i], key_list[1]: test_list[i+1]}\n",
    "    result.append(d)\n",
    "\n",
    "print(result)"
   ]
  },
  {
   "cell_type": "markdown",
   "id": "10bf6068-29fe-4925-b796-aa244eb6df96",
   "metadata": {},
   "source": [
    "# Q4: Convert a list of Tuples into Dictionary."
   ]
  },
  {
   "cell_type": "code",
   "execution_count": 17,
   "id": "e54b89ea-16db-487a-beb3-d61e58704a00",
   "metadata": {},
   "outputs": [
    {
     "name": "stdout",
     "output_type": "stream",
     "text": [
      "{'akash': [10], 'gaurav': [12], 'anand': [14], 'suraj': [20], 'akhil': [25], 'ashish': [30]}\n"
     ]
    }
   ],
   "source": [
    "data = [(\"akash\", 10), (\"gaurav\", 12), (\"anand\", 14), (\"suraj\", 20), (\"akhil\", 25), (\"ashish\", 30)]\n",
    "\n",
    "result = {}\n",
    "\n",
    "for name, value in data:\n",
    "    if name in result:\n",
    "        result[name].append(value)\n",
    "    else:\n",
    "        result[name] = [value]\n",
    "\n",
    "print(result)"
   ]
  },
  {
   "cell_type": "markdown",
   "id": "b3b1fbc3-7956-4e36-8a0e-f1303322b4db",
   "metadata": {},
   "source": [
    "# Q5: Sort Dictionary key and values List."
   ]
  },
  {
   "cell_type": "code",
   "execution_count": 18,
   "id": "38dbafc7-59b8-40a7-8b4b-2d6054b680a1",
   "metadata": {},
   "outputs": [
    {
     "name": "stdout",
     "output_type": "stream",
     "text": [
      "{'a': [4, 19], 'b': [10, 12], 'c': [3]}\n"
     ]
    }
   ],
   "source": [
    "input_dict = {'c': [3], 'b': [12, 10], 'a': [19, 4]}\n",
    "\n",
    "for key, value in input_dict.items():\n",
    "    input_dict[key] = sorted(value)\n",
    "\n",
    "sorted_dict = dict(sorted(input_dict.items()))\n",
    "\n",
    "print(sorted_dict)"
   ]
  },
  {
   "cell_type": "code",
   "execution_count": null,
   "id": "d197ad09-15aa-4c53-9597-a6b043a1927a",
   "metadata": {},
   "outputs": [],
   "source": []
  }
 ],
 "metadata": {
  "kernelspec": {
   "display_name": "Python 3 (ipykernel)",
   "language": "python",
   "name": "python3"
  },
  "language_info": {
   "codemirror_mode": {
    "name": "ipython",
    "version": 3
   },
   "file_extension": ".py",
   "mimetype": "text/x-python",
   "name": "python",
   "nbconvert_exporter": "python",
   "pygments_lexer": "ipython3",
   "version": "3.11.7"
  }
 },
 "nbformat": 4,
 "nbformat_minor": 5
}
