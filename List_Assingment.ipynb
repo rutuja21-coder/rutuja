{
 "cells": [
  {
   "cell_type": "markdown",
   "id": "16b01147-924a-4068-91a5-d5efc2bbf9ce",
   "metadata": {},
   "source": [
    "# Q.1 Create 2 lists from a given list where 1st list will contain all the odd numbers from the original list and the 2nd one will contain all the even numbers"
   ]
  },
  {
   "cell_type": "code",
   "execution_count": 1,
   "id": "705911c8-6a24-4d91-9885-23c7cba37300",
   "metadata": {},
   "outputs": [
    {
     "name": "stdout",
     "output_type": "stream",
     "text": [
      "Odd numbers: [1, 3, 5]\n",
      "Even numbers: [2, 4, 6]\n"
     ]
    }
   ],
   "source": [
    "L = [1, 2, 3, 4, 5, 6]\n",
    "\n",
    "odd_numbers = [x for x in L if x % 2 != 0]\n",
    "\n",
    "even_numbers = [x for x in L if x % 2 == 0]\n",
    "\n",
    "print(\"Odd numbers:\", odd_numbers)\n",
    "print(\"Even numbers:\", even_numbers)\n"
   ]
  },
  {
   "cell_type": "markdown",
   "id": "18a7e078-c2ed-49f9-94a1-3c103a2a8865",
   "metadata": {},
   "source": [
    "# Q.2 How to take list as input from user"
   ]
  },
  {
   "cell_type": "code",
   "execution_count": 2,
   "id": "4168b823-4780-4fcc-935d-baf2bd036a7d",
   "metadata": {},
   "outputs": [
    {
     "name": "stdin",
     "output_type": "stream",
     "text": [
      "Enter number of elements :  5\n",
      " 23\n",
      " 43\n",
      " 92\n",
      " 67\n",
      " 50\n"
     ]
    },
    {
     "name": "stdout",
     "output_type": "stream",
     "text": [
      "[23, 43, 92, 67, 50]\n"
     ]
    }
   ],
   "source": [
    "list = []\n",
    " \n",
    "n = int(input(\"Enter number of elements : \"))\n",
    " \n",
    "for i in range(0, n):\n",
    "\n",
    "    ele = int(input())\n",
    "\n",
    "    list.append(ele) \n",
    "print(list)"
   ]
  },
  {
   "cell_type": "markdown",
   "id": "409cccee-daa5-4a73-a8ad-da4f8846d1bc",
   "metadata": {},
   "source": [
    "# Q.3  Write a program to merge 2 list without using the + operator"
   ]
  },
  {
   "cell_type": "code",
   "execution_count": 5,
   "id": "e1755e42-3f79-4c1c-95ba-d361c9c74bee",
   "metadata": {},
   "outputs": [
    {
     "name": "stdout",
     "output_type": "stream",
     "text": [
      "Concatenated list using list comprehension: [1, 2, 3, 4, 5, 6, 7, 8]\n"
     ]
    }
   ],
   "source": [
    "L1=[1,2,3,4]\n",
    "L2=[5,6,7,8]\n",
    "res_list = [y for x in [L1, L2] for y in x]\n",
    " \n",
    "print (\"Concatenated list using list comprehension: \" + str(res_list))\n"
   ]
  },
  {
   "cell_type": "markdown",
   "id": "7fe0b4ae-f0cf-4c20-b337-93914cafd034",
   "metadata": {},
   "source": [
    "# Q.4 Write a program to replace an item with a different item if found in the list "
   ]
  },
  {
   "cell_type": "code",
   "execution_count": 12,
   "id": "a14379bc-49e6-4dff-8235-675107f33bb4",
   "metadata": {},
   "outputs": [
    {
     "name": "stdout",
     "output_type": "stream",
     "text": [
      "Updated list: [1, 2, 300, 4, 5, 300]\n"
     ]
    }
   ],
   "source": [
    "L = [1, 2, 3, 4, 5, 3]\n",
    "\n",
    "item_to_replace = 3\n",
    "new_item = 300\n",
    "\n",
    "for i in range(len(L)):\n",
    "    if L[i] == item_to_replace:\n",
    "        L[i] = new_item\n",
    "\n",
    "print(\"Updated list:\", L)"
   ]
  },
  {
   "cell_type": "markdown",
   "id": "d6eab51c-3430-4d4b-a34d-02b645892df5",
   "metadata": {},
   "source": [
    "# Q.5 Write a program that can convert a 2D list to 1D list"
   ]
  },
  {
   "cell_type": "code",
   "execution_count": 17,
   "id": "43e893fc-ec21-4d52-8845-b06e5ca6a2d3",
   "metadata": {},
   "outputs": [
    {
     "name": "stdout",
     "output_type": "stream",
     "text": [
      "1D list: [1, 2, 3, 4, 5, 6, 7, 8, 9]\n"
     ]
    }
   ],
   "source": [
    "L_2D = [\n",
    "    [1, 2, 3],\n",
    "    [4, 5, 6],\n",
    "    [7, 8, 9]\n",
    "]\n",
    "\n",
    "L_1D = [item for sublist in L_2D for item in sublist]\n",
    "\n",
    "print(\"1D list:\", L_1D)"
   ]
  },
  {
   "cell_type": "markdown",
   "id": "eef9a217-1339-4841-88ad-9694da079b04",
   "metadata": {},
   "source": [
    "# Q.6 Write a program to remove duplicate items from a list"
   ]
  },
  {
   "cell_type": "code",
   "execution_count": 15,
   "id": "09206747-cfb0-49cf-9738-487a7147e7ce",
   "metadata": {},
   "outputs": [
    {
     "name": "stdout",
     "output_type": "stream",
     "text": [
      "List with duplicates removed: [1, 2, 3, 4, 5]\n"
     ]
    }
   ],
   "source": [
    "L = [1, 2, 1, 2, 3, 4, 5, 3, 4]\n",
    "\n",
    "L_unique = []\n",
    "for item in L:\n",
    "    if item not in L_unique:\n",
    "        L_unique.append(item)\n",
    "\n",
    "print(\"List with duplicates removed:\", L_unique)"
   ]
  },
  {
   "cell_type": "markdown",
   "id": "7a6ce14d-3ffd-4484-9d48-f53534c197e3",
   "metadata": {},
   "source": [
    "# Q.7 Write a program to check if a list is in ascending order or not"
   ]
  },
  {
   "cell_type": "code",
   "execution_count": 16,
   "id": "ebacfd35-897c-4a0f-b224-ce1cf6c96bd5",
   "metadata": {},
   "outputs": [
    {
     "name": "stdout",
     "output_type": "stream",
     "text": [
      "The list is in ascending order.\n"
     ]
    }
   ],
   "source": [
    "L = [1, 2, 3, 4, 5, 6]\n",
    "\n",
    "is_ascending = all(L[i] <= L[i + 1] for i in range(len(L) - 1))\n",
    "\n",
    "if is_ascending:\n",
    "    print(\"The list is in ascending order.\")\n",
    "else:\n",
    "    print(\"The list is not in ascending order.\")"
   ]
  }
 ],
 "metadata": {
  "kernelspec": {
   "display_name": "Python 3 (ipykernel)",
   "language": "python",
   "name": "python3"
  },
  "language_info": {
   "codemirror_mode": {
    "name": "ipython",
    "version": 3
   },
   "file_extension": ".py",
   "mimetype": "text/x-python",
   "name": "python",
   "nbconvert_exporter": "python",
   "pygments_lexer": "ipython3",
   "version": "3.11.7"
  }
 },
 "nbformat": 4,
 "nbformat_minor": 5
}
