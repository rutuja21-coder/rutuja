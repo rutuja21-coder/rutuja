{
 "cells": [
  {
   "cell_type": "markdown",
   "id": "9fae02b7-a3e5-4ec0-b0c9-f3ce61eb954e",
   "metadata": {},
   "source": [
    "# 1. find the lenth of given string (giving by user) without using len() funtion"
   ]
  },
  {
   "cell_type": "code",
   "execution_count": 5,
   "id": "4e178901-6a0a-4674-b4e8-7e1d114325bc",
   "metadata": {},
   "outputs": [
    {
     "name": "stdin",
     "output_type": "stream",
     "text": [
      "enter a string: abhi\n"
     ]
    },
    {
     "name": "stdout",
     "output_type": "stream",
     "text": [
      "lenth of string is 4\n"
     ]
    }
   ],
   "source": [
    "inpt=input(\"enter a string:\")\n",
    "count=0\n",
    "for i in inpt:\n",
    "    count += 1\n",
    "print(\"lenth of string is\",count)"
   ]
  },
  {
   "cell_type": "markdown",
   "id": "293f17a0-2d8c-40f8-8494-4b016b5055c0",
   "metadata": {},
   "source": [
    "# 2. extract userid for given mail i'd eg if the mail is rutujadidore79@gmail.com them user name should be \"rutujadore79\""
   ]
  },
  {
   "cell_type": "code",
   "execution_count": 1,
   "id": "7afa5f20-143f-43d9-8c0a-2054048d78ff",
   "metadata": {},
   "outputs": [
    {
     "name": "stdin",
     "output_type": "stream",
     "text": [
      "enter your mail i'd rutujadidore79@gmail.com\n"
     ]
    },
    {
     "name": "stdout",
     "output_type": "stream",
     "text": [
      "rutujadidore79\n"
     ]
    }
   ],
   "source": [
    "mail_id=input(\"enter your mail i'd\")\n",
    "poss=mail_id.index(\"@\")\n",
    "print(mail_id[0:poss])"
   ]
  },
  {
   "cell_type": "markdown",
   "id": "49c988b7-667e-435e-ad4b-d4fb9d65e48e",
   "metadata": {},
   "source": [
    "# 3. count the frequency of perticular character in provided string eg \"hello how are you\" is the string, the freq of \"h\" in this string is without using count function"
   ]
  },
  {
   "cell_type": "code",
   "execution_count": 1,
   "id": "940c5350-e24b-4004-865c-ab015d5fc83d",
   "metadata": {},
   "outputs": [
    {
     "name": "stdin",
     "output_type": "stream",
     "text": [
      "enter a string hello how are you\n",
      "what you like to search  h\n"
     ]
    },
    {
     "name": "stdout",
     "output_type": "stream",
     "text": [
      "frequency of your char is 2\n"
     ]
    }
   ],
   "source": [
    "str1=input(\"enter a string\")\n",
    "term=input(\"what you like to search \") \n",
    "counter=0\n",
    "for i in str1:\n",
    "    if i == term:\n",
    "      counter +=1\n",
    "print(\"frequency of your char is\",counter)"
   ]
  },
  {
   "cell_type": "markdown",
   "id": "4543eb2d-ca0c-4f18-abb5-be5b3f955c1b",
   "metadata": {},
   "source": [
    "# 4. write a program which can remove a particular character from string "
   ]
  },
  {
   "cell_type": "code",
   "execution_count": 4,
   "id": "dcba8a91-191b-45fd-80ad-95567c7d7b41",
   "metadata": {},
   "outputs": [
    {
     "name": "stdin",
     "output_type": "stream",
     "text": [
      "enter a string hello how are you\n",
      "enter the character to remove h\n"
     ]
    },
    {
     "name": "stdout",
     "output_type": "stream",
     "text": [
      "ello ow are you\n"
     ]
    }
   ],
   "source": [
    "str1=input(\"enter a string\")\n",
    "term=input(\"enter the character to remove\")\n",
    "result=\"\"\n",
    "for i in str1:\n",
    "    if i != term:\n",
    "      result= result +i\n",
    "print(result)\n"
   ]
  },
  {
   "cell_type": "markdown",
   "id": "ebc3af3c-a858-4043-bd8d-a0658d3def9a",
   "metadata": {},
   "source": [
    "# 5. write a program that can check whether a given string is palindrome or not #abba #malayalam"
   ]
  },
  {
   "cell_type": "code",
   "execution_count": 10,
   "id": "2a94d113-1d5c-47a3-89cb-c70a7159e4c0",
   "metadata": {},
   "outputs": [
    {
     "name": "stdin",
     "output_type": "stream",
     "text": [
      "enter the string malayalam\n"
     ]
    },
    {
     "name": "stdout",
     "output_type": "stream",
     "text": [
      "palindrome string\n"
     ]
    }
   ],
   "source": [
    "str1=input(\"enter the string\")\n",
    "str2=str1[-1::-1]\n",
    "if(str1==str2):\n",
    "    print(\"palindrome string\")\n",
    "else:\n",
    "    print(\"not palindrome string\")\n"
   ]
  },
  {
   "cell_type": "markdown",
   "id": "3e0a8cd6-ab67-4722-9d57-27fd2d638b2b",
   "metadata": {},
   "source": [
    "# 6. write a program to count the number of words in a string without split()"
   ]
  },
  {
   "cell_type": "code",
   "execution_count": 4,
   "id": "0fcc2766-cb3b-4ffc-ba92-b759ff969bce",
   "metadata": {},
   "outputs": [
    {
     "name": "stdin",
     "output_type": "stream",
     "text": [
      "enter a string: hello how are you\n"
     ]
    },
    {
     "name": "stdout",
     "output_type": "stream",
     "text": [
      "total number of words: 17\n"
     ]
    }
   ],
   "source": [
    "inp= input(\"enter a string:\")\n",
    "count=0\n",
    "for i in inp:\n",
    "    count +=1\n",
    "print(\"total number of words:\",count)"
   ]
  },
  {
   "cell_type": "markdown",
   "id": "6f574ddf-08d6-486a-aa3f-fa49afde83e8",
   "metadata": {},
   "source": [
    "# 7. write a python program to convert a string to title case without using the title()"
   ]
  },
  {
   "cell_type": "code",
   "execution_count": 5,
   "id": "69ba101c-5f60-4980-b271-0bf587e2ea06",
   "metadata": {},
   "outputs": [
    {
     "name": "stdin",
     "output_type": "stream",
     "text": [
      "enter the string: hello world\n"
     ]
    },
    {
     "name": "stdout",
     "output_type": "stream",
     "text": [
      "['hello', 'world']\n",
      "Hello World \n"
     ]
    }
   ],
   "source": [
    "str1=input(\"enter the string:\") \n",
    "a=str1.split()\n",
    "print(a)\n",
    "r=\"\"\n",
    "for i in a:\n",
    "    r = r +i[0].upper() + i[1:].lower() +\" \"\n",
    "print(r)"
   ]
  },
  {
   "cell_type": "code",
   "execution_count": null,
   "id": "066c6ba2-994d-41cb-acdc-ef5354cdce6c",
   "metadata": {},
   "outputs": [],
   "source": []
  }
 ],
 "metadata": {
  "kernelspec": {
   "display_name": "Python 3 (ipykernel)",
   "language": "python",
   "name": "python3"
  },
  "language_info": {
   "codemirror_mode": {
    "name": "ipython",
    "version": 3
   },
   "file_extension": ".py",
   "mimetype": "text/x-python",
   "name": "python",
   "nbconvert_exporter": "python",
   "pygments_lexer": "ipython3",
   "version": "3.11.7"
  }
 },
 "nbformat": 4,
 "nbformat_minor": 5
}
